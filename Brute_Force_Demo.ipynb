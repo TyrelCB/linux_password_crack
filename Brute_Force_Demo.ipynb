{
 "cells": [
  {
   "cell_type": "markdown",
   "metadata": {},
   "source": [
    "![T2](https://techcrunch.com/wp-content/uploads/2009/02/terminator.jpg)"
   ]
  },
  {
   "cell_type": "code",
   "execution_count": 18,
   "metadata": {},
   "outputs": [],
   "source": [
    "import string     # Provides Easy Access to Character Sets\n",
    "import random     # Used for Picking Characters out of a list or string\n",
    "import time       # Used to time how long the password cracking functions are taking\n",
    "import subprocess # Used to send commands to the underlying shell\n",
    "import crypt      # Used to generate Sha512 hash for Linux password cracking\n",
    "import itertools  # Used to Calculate Permutations\n",
    "try:from IPython.display import clear_output # Used make time updates dynamic without scrolling\n",
    "except:pass # Module Not a Hard Requeirment"
   ]
  },
  {
   "cell_type": "markdown",
   "metadata": {},
   "source": [
    "# Password Generator"
   ]
  },
  {
   "cell_type": "code",
   "execution_count": 2,
   "metadata": {},
   "outputs": [],
   "source": [
    "char_set = string.ascii_letters + string.digits + '!@#$%^&*()'"
   ]
  },
  {
   "cell_type": "code",
   "execution_count": 3,
   "metadata": {},
   "outputs": [
    {
     "name": "stdout",
     "output_type": "stream",
     "text": [
      "char_set = abcdefghijklmnopqrstuvwxyzABCDEFGHIJKLMNOPQRSTUVWXYZ0123456789!@#$%^&*()\n"
     ]
    }
   ],
   "source": [
    "print('char_set =', char_set)"
   ]
  },
  {
   "cell_type": "code",
   "execution_count": 4,
   "metadata": {},
   "outputs": [
    {
     "name": "stdout",
     "output_type": "stream",
     "text": [
      "72\n"
     ]
    }
   ],
   "source": [
    "print(len(char_set))"
   ]
  },
  {
   "cell_type": "code",
   "execution_count": 5,
   "metadata": {},
   "outputs": [],
   "source": [
    "def gen_password(length, char_set=None):\n",
    "    if char_set == None:\n",
    "        char_set = string.ascii_letters + string.digits + '!@#$%^&*()'\n",
    "    password = ''\n",
    "    for i in range(length):\n",
    "        x = random.choice(char_set)\n",
    "        password = password + x\n",
    "    return password"
   ]
  },
  {
   "cell_type": "code",
   "execution_count": 6,
   "metadata": {
    "scrolled": true
   },
   "outputs": [
    {
     "name": "stdout",
     "output_type": "stream",
     "text": [
      "Generated password = czObJJhv\n",
      "Generated password = T2hjNflZ\n",
      "Generated password = SS5VeC*Y\n"
     ]
    }
   ],
   "source": [
    "my_pass = gen_password(8)\n",
    "print(f'Generated password = {my_pass}')\n",
    "print(f'Generated password = {gen_password(8)}')\n",
    "print(f'Generated password = {gen_password(8)}')\n"
   ]
  },
  {
   "cell_type": "markdown",
   "metadata": {},
   "source": [
    "# Password/PIN Cracker"
   ]
  },
  {
   "cell_type": "code",
   "execution_count": 7,
   "metadata": {},
   "outputs": [],
   "source": [
    "password_to_crack = '4721'"
   ]
  },
  {
   "cell_type": "code",
   "execution_count": null,
   "metadata": {
    "scrolled": true,
    "tags": []
   },
   "outputs": [
    {
     "name": "stdout",
     "output_type": "stream",
     "text": [
      "Guess = 3166 Attempt Number = 5,211 Time Taken = 13.6588 seconds\n"
     ]
    }
   ],
   "source": [
    "count = 1\n",
    "start_time = time.time()\n",
    "show = True\n",
    "while True:\n",
    "    attempt = gen_password(len(password_to_crack), string.digits)\n",
    "    if attempt == password_to_crack:\n",
    "        print(f'Cracked Password \"{attempt}\" on Try {count:,} and took {time.time()-start_time:.4f} seconds')\n",
    "        break\n",
    "    else:\n",
    "        pass\n",
    "        try:\n",
    "            if show:\n",
    "                clear_output(wait=True)\n",
    "                print(f'Guess = {attempt} Attempt Number = {count:,} Time Taken = {time.time()-start_time:.4f} seconds')\n",
    "        except:pass\n",
    "    count = count+1"
   ]
  },
  {
   "cell_type": "markdown",
   "metadata": {},
   "source": [
    "# Calculating Permutations with Repetition"
   ]
  },
  {
   "cell_type": "markdown",
   "metadata": {},
   "source": [
    "*Formula:* \n",
    "\n",
    "- **N**^**R** = Possible_Outcomes\n",
    "    - **N** is the number of characters \n",
    "    - **R** is repetition count, eg password length\n",
    "\n",
    "\n",
    "For example a 4 digit PIN:\n",
    "\n",
    "- N = 10 (0,1,2,3,4,5,6,7,8,9)\n",
    "- R = 4\n",
    "    - 10^4 = 10,000 possible outcomes"
   ]
  },
  {
   "cell_type": "code",
   "execution_count": null,
   "metadata": {
    "tags": []
   },
   "outputs": [],
   "source": [
    "char_set_len = 72\n",
    "length = 8\n",
    "print(f'Possilbe Permutations {char_set_len**length:,}')"
   ]
  },
  {
   "cell_type": "markdown",
   "metadata": {},
   "source": [
    "# Sequential Cracking Method"
   ]
  },
  {
   "cell_type": "code",
   "execution_count": null,
   "metadata": {},
   "outputs": [],
   "source": [
    "def crack_pass(password_to_crack, start_length=1, up_to_length=12, char_set=None, show=False):\n",
    "    if char_set == None:\n",
    "        char_set = string.ascii_letters + string.digits + '!@#$%^&*()'\n",
    "    print(f'''\n",
    "    Attempting to crack password up to {up_to_length} characters long using these charecters:\n",
    "    {char_set}\n",
    "    ''')\n",
    "    cracked = False\n",
    "    count = 1\n",
    "    start_time = time.time()\n",
    "    for length in range(start_length, up_to_length+1):\n",
    "        if cracked != True:\n",
    "            print(f'\\tTrying with Password Length of {length} @ {time.time()-start_time:.4f} seconds')\n",
    "            for i in itertools.product(char_set, repeat=length):\n",
    "                attempt = ''.join(i)\n",
    "                if attempt == password_to_crack:\n",
    "                    print(f'\\tCracked Password \"{attempt}\" on Try {count:,} and took {time.time()-start_time:.4f} seconds')\n",
    "                    cracked = True\n",
    "                    break\n",
    "                else:\n",
    "                    pass\n",
    "                    if show:\n",
    "                        try:\n",
    "                            clear_output(wait=True)\n",
    "                            print(f'Guess = {attempt} Attempt Number = {count} Time Taken = {time.time()-start_time:.4f} seconds')\n",
    "                        except:pass\n",
    "                count = count+1\n",
    "    if cracked:\n",
    "        return 'Crack Success'\n",
    "    else:\n",
    "        return 'Crack Failed'"
   ]
  },
  {
   "cell_type": "code",
   "execution_count": null,
   "metadata": {},
   "outputs": [],
   "source": [
    "#password_to_crack = 'C@t5'\n",
    "password_to_crack = 'T2'\n",
    "password_to_crack"
   ]
  },
  {
   "cell_type": "code",
   "execution_count": null,
   "metadata": {},
   "outputs": [
    {
     "name": "stdout",
     "output_type": "stream",
     "text": [
      "Guess = Sf Attempt Number = 3246 Time Taken = 7.0001 seconds\n"
     ]
    }
   ],
   "source": [
    "crack_pass(password_to_crack, show=True)"
   ]
  },
  {
   "cell_type": "markdown",
   "metadata": {},
   "source": [
    "# Cracking a Linux Password\n",
    "\n",
    "### Add a User and Change their Password\n",
    "#### `sudo useradd testuser`\n",
    "#### `sudo passwd testuser`"
   ]
  },
  {
   "cell_type": "code",
   "execution_count": null,
   "metadata": {},
   "outputs": [],
   "source": [
    "def find_user(user):\n",
    "    '''Find a user in /etc/shadow and return the salt and the hash'''\n",
    "    try:\n",
    "        output = subprocess.run('sudo cat /etc/shadow'.split(), capture_output=True)\n",
    "        for line in output.stdout.decode().split('\\n'):\n",
    "            if user in line:\n",
    "                print(f'-> Found User \"{user}\"')\n",
    "                print(line)\n",
    "                break\n",
    "        salt = line.split(':')[1].split('$')[2]\n",
    "        hashed = line.split(':')[1].split('$')[3]\n",
    "        #print('\\n',salt, hashed)\n",
    "        return salt,hashed\n",
    "    except:\n",
    "        print(f'Could not find user {user} in /etc/shadow')\n",
    "        return None,None"
   ]
  },
  {
   "cell_type": "code",
   "execution_count": null,
   "metadata": {},
   "outputs": [],
   "source": [
    "def gen_hash_sha512(password, salt):\n",
    "    '''Generate our Hash Output for Password with given Salt'''\n",
    "    sha512_hash = crypt.crypt(password, f'$6${salt}')\n",
    "    return sha512_hash"
   ]
  },
  {
   "cell_type": "code",
   "execution_count": null,
   "metadata": {},
   "outputs": [],
   "source": [
    "def crack_hashed_pass(password_hash, salt, up_to_length=13, char_set=None, show=False):\n",
    "    if char_set == None:\n",
    "        char_set = string.ascii_letters + string.digits + '!@#$%^&*()'\n",
    "    print(f'''\n",
    "    Attempting to crack password up to {up_to_length} characters long using these charecters:\n",
    "    {char_set}\n",
    "    ''')\n",
    "    cracked = False\n",
    "    count = 1\n",
    "    start_time = time.time()\n",
    "    for length in range(up_to_length):\n",
    "        if cracked != True:\n",
    "            print(f'\\tTrying with Password Length of {length} @ {time.time()-start_time:.4f} seconds')\n",
    "            for i in itertools.product(char_set, repeat=length):\n",
    "                attempt = ''.join(i)\n",
    "                # Pass Attempt to gen_hash_sha512 function\n",
    "                hashed_attempt = gen_hash_sha512(attempt, salt)\n",
    "                if show:\n",
    "                        clear_output(wait=True)\n",
    "                        print(f'Input Salt = {salt}')\n",
    "                        print(f'Input Hash = {password_hash}')\n",
    "                        print(f'Guess = {attempt} Attempt Number = {count:,} Time Taken = {time.time()-start_time:.4f} seconds')\n",
    "                        print(f'Guess Hash = {hashed_attempt}')\n",
    "                if hashed_attempt == password_hash:\n",
    "                    print(f'\\tCracked Password \"{attempt}\" on Try {count:,} and took {time.time()-start_time:.4f} seconds')\n",
    "                    cracked = True\n",
    "                    break\n",
    "                count = count+1\n",
    "    if cracked:\n",
    "        return ('Crack Success', attempt)\n",
    "    else:\n",
    "        return 'Crack Failed'"
   ]
  },
  {
   "cell_type": "code",
   "execution_count": null,
   "metadata": {},
   "outputs": [],
   "source": [
    "def crack_linux_password(username, show=False):\n",
    "    # Find Encrypted Password Line in /etc/shadow\n",
    "    salt, hashed = find_user(username)\n",
    "    if salt == None:return\n",
    "    complete = f'$6${salt}${hashed}'\n",
    "    print(f'\\nSalt = {salt}\\nHash = {hashed}')\n",
    "    # Pass Salt and Hashed Password into crack_hashed_pass function\n",
    "    result = crack_hashed_pass(complete, salt, up_to_length=13, char_set=None, show=show)\n",
    "    return result"
   ]
  },
  {
   "cell_type": "code",
   "execution_count": 17,
   "metadata": {},
   "outputs": [
    {
     "name": "stdout",
     "output_type": "stream",
     "text": [
      "Input Salt = 72AqZYt34ogSYVN.\n",
      "Input Hash = $6$72AqZYt34ogSYVN.$Xdrff364dYB0qwtR7hnwDFe3CTo2g20vp0kkhG3IVpWe2ntgQI7xGvmHouG/qAtnItqBSzG9hnpIGjki5xJJt/\n",
      "Guess = T2 Attempt Number = 3,368 Time Taken = 29.9410 seconds\n",
      "Guess Hash = $6$72AqZYt34ogSYVN.$Xdrff364dYB0qwtR7hnwDFe3CTo2g20vp0kkhG3IVpWe2ntgQI7xGvmHouG/qAtnItqBSzG9hnpIGjki5xJJt/\n",
      "\tCracked Password \"T2\" on Try 3,368 and took 29.9410 seconds\n"
     ]
    },
    {
     "data": {
      "text/plain": [
       "('Crack Success', 'T2')"
      ]
     },
     "execution_count": 17,
     "metadata": {},
     "output_type": "execute_result"
    }
   ],
   "source": [
    "crack_linux_password('testuser', show=True)"
   ]
  },
  {
   "cell_type": "markdown",
   "metadata": {},
   "source": [
    "### Delete the user when finished\n",
    "#### `sudo userdel testuser`"
   ]
  },
  {
   "cell_type": "code",
   "execution_count": null,
   "metadata": {},
   "outputs": [],
   "source": []
  }
 ],
 "metadata": {
  "kernelspec": {
   "display_name": "Python 3 (ipykernel)",
   "language": "python",
   "name": "python3"
  },
  "language_info": {
   "codemirror_mode": {
    "name": "ipython",
    "version": 3
   },
   "file_extension": ".py",
   "mimetype": "text/x-python",
   "name": "python",
   "nbconvert_exporter": "python",
   "pygments_lexer": "ipython3",
   "version": "3.9.7"
  },
  "toc-showcode": true
 },
 "nbformat": 4,
 "nbformat_minor": 4
}
