{
 "cells": [
  {
   "cell_type": "markdown",
   "metadata": {},
   "source": [
    "![T2](https://techcrunch.com/wp-content/uploads/2009/02/terminator.jpg)"
   ]
  },
  {
   "cell_type": "code",
   "execution_count": null,
   "metadata": {},
   "outputs": [],
   "source": [
    "import string\n",
    "import random\n",
    "import time\n",
    "import subprocess\n",
    "import crypt\n",
    "import itertools"
   ]
  },
  {
   "cell_type": "markdown",
   "metadata": {},
   "source": [
    "# Password Generator"
   ]
  },
  {
   "cell_type": "code",
   "execution_count": null,
   "metadata": {},
   "outputs": [],
   "source": [
    "char_set = string.ascii_letters + string.digits + '!@#$%^&*()'"
   ]
  },
  {
   "cell_type": "code",
   "execution_count": null,
   "metadata": {},
   "outputs": [],
   "source": [
    "print(char_set)"
   ]
  },
  {
   "cell_type": "code",
   "execution_count": null,
   "metadata": {},
   "outputs": [],
   "source": [
    "print(len(char_set))"
   ]
  },
  {
   "cell_type": "code",
   "execution_count": null,
   "metadata": {},
   "outputs": [],
   "source": [
    "def gen_password(length, char_set=None):\n",
    "    if char_set == None:\n",
    "        char_set = string.ascii_letters + string.digits + '!@#$%^&*()'\n",
    "    password = ''\n",
    "    for i in range(length):\n",
    "        x = random.choice(char_set)\n",
    "        password = password + x\n",
    "    return password"
   ]
  },
  {
   "cell_type": "code",
   "execution_count": null,
   "metadata": {
    "scrolled": true
   },
   "outputs": [],
   "source": [
    "my_pass = gen_password(8)\n",
    "print(my_pass)"
   ]
  },
  {
   "cell_type": "markdown",
   "metadata": {},
   "source": [
    "# Password/PIN Cracker"
   ]
  },
  {
   "cell_type": "code",
   "execution_count": null,
   "metadata": {},
   "outputs": [],
   "source": [
    "password_to_crack = '5536'"
   ]
  },
  {
   "cell_type": "code",
   "execution_count": null,
   "metadata": {
    "scrolled": true
   },
   "outputs": [],
   "source": [
    "count = 1\n",
    "start_time = time.time()\n",
    "while True:\n",
    "    attempt = gen_password(len(password_to_crack), string.digits)\n",
    "    if attempt == password_to_crack:\n",
    "        print(f'Cracked Password \"{attempt}\" on Try {count:,} and took {time.time()-start_time:.4f} seconds')\n",
    "        break\n",
    "#     else:\n",
    "#         print(f'Guess = {attempt} attempt # {count}')\n",
    "    count = count+1"
   ]
  },
  {
   "cell_type": "markdown",
   "metadata": {},
   "source": [
    "# Calculating Permutations with Repetition\n",
    "\n",
    "\n",
    "Formula: \n",
    "- **R** is repetition count, eg password length\n",
    "- **N** number of characters \n",
    "\n",
    "    **N**^**R** = Possible_Outcomes\n",
    "\n",
    "For example a 4 digit PIN:\n",
    "\n",
    "- R = 4\n",
    "- N = 10 (0,1,2,3,4,5,6,7,8,9)\n",
    "\n",
    "    10^4 = 10,000 possible outcomes"
   ]
  },
  {
   "cell_type": "code",
   "execution_count": null,
   "metadata": {},
   "outputs": [],
   "source": [
    "char_set_len = 72\n",
    "length = 8\n",
    "print(f'Possilbe Permutations {char_set_len**length:,}')"
   ]
  },
  {
   "cell_type": "markdown",
   "metadata": {},
   "source": [
    "# Sequential Cracking Method"
   ]
  },
  {
   "cell_type": "code",
   "execution_count": null,
   "metadata": {},
   "outputs": [],
   "source": [
    "def crack_pass(password_to_crack, start_length=1, up_to_length=13, char_set=None):\n",
    "    if char_set == None:\n",
    "        char_set = string.ascii_letters + string.digits + '!@#$%^&*()'\n",
    "    print(f'''\n",
    "    Attempting to crack password up to {up_to_length} characters long using these charecters:\n",
    "    {char_set}\n",
    "    ''')\n",
    "    cracked = False\n",
    "    count = 1\n",
    "    start_time = time.time()\n",
    "    for length in range(start_length, up_to_length):\n",
    "        if cracked != True:\n",
    "            print(f'\\tTrying with Password Length of {length} @ {time.time()-start_time:.4f} seconds')\n",
    "            for i in itertools.product(char_set, repeat=length):\n",
    "                attempt = ''.join(i)\n",
    "                if attempt == password_to_crack:\n",
    "                    print(f'\\tCracked Password \"{attempt}\" on Try {count:,} and took {time.time()-start_time:.4f} seconds')\n",
    "                    cracked = True\n",
    "                    break\n",
    "            #     else:\n",
    "            #         print(f'Guess = {attempt} attempt # {count}')\n",
    "                count = count+1\n",
    "    if cracked:\n",
    "        return 'Crack Success'\n",
    "    else:\n",
    "        return 'Crack Failed'"
   ]
  },
  {
   "cell_type": "code",
   "execution_count": null,
   "metadata": {},
   "outputs": [],
   "source": [
    "password_to_crack = 'C@t5E'\n",
    "password_to_crack"
   ]
  },
  {
   "cell_type": "code",
   "execution_count": null,
   "metadata": {
    "scrolled": true
   },
   "outputs": [],
   "source": [
    "crack_pass(password_to_crack)"
   ]
  },
  {
   "cell_type": "markdown",
   "metadata": {},
   "source": [
    "# Cracking a Linux Password"
   ]
  },
  {
   "cell_type": "code",
   "execution_count": null,
   "metadata": {},
   "outputs": [],
   "source": [
    "output = subprocess.run('sudo cat /etc/shadow'.split(), capture_output=True)"
   ]
  },
  {
   "cell_type": "code",
   "execution_count": null,
   "metadata": {},
   "outputs": [],
   "source": [
    "for line in output.stdout.decode().split('\\n'):\n",
    "    if 'testuser' in line:\n",
    "        break\n",
    "salt = line.split(':')[1].split('$')[2]\n",
    "hashed = line.split(':')[1].split('$')[3]\n",
    "complete = f'$6${salt}${hashed}'\n",
    "print(complete)"
   ]
  },
  {
   "cell_type": "code",
   "execution_count": null,
   "metadata": {},
   "outputs": [],
   "source": [
    "def gen_hash_sha512(password, salt):\n",
    "    sha512_hash = crypt.crypt(password, f'$6${salt}')\n",
    "    return sha512_hash"
   ]
  },
  {
   "cell_type": "code",
   "execution_count": null,
   "metadata": {},
   "outputs": [],
   "source": [
    "def crack_hashed_pass(password_hash, salt, up_to_length=13, char_set=None):\n",
    "    if char_set == None:\n",
    "        char_set = string.ascii_letters + string.digits + '!@#$%^&*()'\n",
    "    print(f'''\n",
    "    Attempting to crack password up to {up_to_length} characters long using these charecters:\n",
    "    {char_set}\n",
    "    ''')\n",
    "    cracked = False\n",
    "    count = 1\n",
    "    start_time = time.time()\n",
    "    for length in range(up_to_length):\n",
    "        if cracked != True:\n",
    "            print(f'\\tTrying with Password Length of {length} @ {time.time()-start_time:.4f} seconds')\n",
    "            for i in itertools.product(char_set, repeat=length):\n",
    "                attempt = ''.join(i)\n",
    "                # Pass Attempt to gen_hash_sha512 function\n",
    "                hashed_attempt = gen_hash_sha512(attempt, salt)\n",
    "                if hashed_attempt == password_hash:\n",
    "                    print(f'\\tCracked Password \"{attempt}\" on Try {count:,} and took {time.time()-start_time:.4f} seconds')\n",
    "                    cracked = True\n",
    "                    break\n",
    "            #     else:\n",
    "            #         print(f'Guess = {attempt} attempt # {count}')\n",
    "                count = count+1\n",
    "    if cracked:\n",
    "        return ('Crack Success', attempt)\n",
    "    else:\n",
    "        return 'Crack Failed'"
   ]
  },
  {
   "cell_type": "code",
   "execution_count": null,
   "metadata": {},
   "outputs": [],
   "source": [
    "def crack_linux_password(username):\n",
    "    # Find Encrypted Password Line in /etc/shadow\n",
    "    output = subprocess.run('sudo cat /etc/shadow'.split(), capture_output=True)\n",
    "    for line in output.stdout.decode().split('\\n'):\n",
    "        if username in line:\n",
    "            print(line)\n",
    "            break\n",
    "    # Parse Line for Salt and Hashed Password        \n",
    "    salt = line.split(':')[1].split('$')[2]\n",
    "    hashed = line.split(':')[1].split('$')[3]\n",
    "    complete = f'$6${salt}${hashed}'\n",
    "    print(f'\\nS = {salt}\\nH = {hashed}')\n",
    "    # Pass Salt and Hashed Password into crack_hashed_pass function\n",
    "    result = crack_hashed_pass(complete, salt, up_to_length=13, char_set=None)\n",
    "    return result"
   ]
  },
  {
   "cell_type": "code",
   "execution_count": null,
   "metadata": {},
   "outputs": [],
   "source": [
    "crack_linux_password('testuser')"
   ]
  }
 ],
 "metadata": {
  "kernelspec": {
   "display_name": "Python 3",
   "language": "python",
   "name": "python3"
  },
  "language_info": {
   "codemirror_mode": {
    "name": "ipython",
    "version": 3
   },
   "file_extension": ".py",
   "mimetype": "text/x-python",
   "name": "python",
   "nbconvert_exporter": "python",
   "pygments_lexer": "ipython3",
   "version": "3.9.2"
  }
 },
 "nbformat": 4,
 "nbformat_minor": 4
}
